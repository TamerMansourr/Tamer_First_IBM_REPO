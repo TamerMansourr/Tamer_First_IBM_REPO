{
 "cells": [
  {
   "cell_type": "markdown",
   "id": "c66f5007",
   "metadata": {},
   "source": [
    "# Data Science Tools and Ecosystem\n"
   ]
  },
  {
   "cell_type": "markdown",
   "id": "47a22a2d",
   "metadata": {},
   "source": [
    "In this notebook, Data Science Tools and Ecosystem are summarized."
   ]
  },
  {
   "cell_type": "markdown",
   "id": "e889d108",
   "metadata": {},
   "source": [
    "## Popular Data Science Languages\n",
    "\n",
    "Some of the popular languages that Data Scientists use are:\n",
    "\n",
    "1. Python\n",
    "2. R\n",
    "3. SQL"
   ]
  },
  {
   "cell_type": "markdown",
   "id": "ca94e6c1",
   "metadata": {},
   "source": [
    "## Commonly Used Data Science Libraries\n",
    "\n",
    "Some of the commonly used libraries used by Data Scientists include:\n",
    "\n",
    "1. NumPy\n",
    "2. Pandas\n",
    "3. Matplotlib\n",
    "4. SciPy\n",
    "5. Scikit-learn"
   ]
  },
  {
   "cell_type": "markdown",
   "id": "962ef043",
   "metadata": {},
   "source": [
    "## Data Science Tools\n",
    "\n",
    "| Tool | Description |\n",
    "|---|---|\n",
    "| **Jupyter Notebook** | A web-based interactive development environment for creating and sharing documents that contain live code, equations, visualizations, and narrative text. |\n",
    "| **RStudio** | A free and open-source integrated development environment (IDE) for the R programming language. |\n",
    "| **Spyder** | A free and open-source IDE for Python development. |\n",
    "| **Visual Studio Code**| A code editor developed by Microsoft that can be used for a variety of programming languages, including Python and R. |\n",
    "\n"
   ]
  },
  {
   "cell_type": "markdown",
   "id": "7b688bf5",
   "metadata": {},
   "source": [
    "# Below are a few examples of evaluating arithmetic expressions in Python"
   ]
  },
  {
   "cell_type": "code",
   "execution_count": 1,
   "id": "2d3308da",
   "metadata": {},
   "outputs": [
    {
     "name": "stdout",
     "output_type": "stream",
     "text": [
      "4\n",
      "6\n",
      "69\n",
      "5.0\n",
      "0\n",
      "16\n"
     ]
    }
   ],
   "source": [
    "print(1+3)\n",
    "print(8-2)\n",
    "print(23*3)\n",
    "print(45/9)\n",
    "print(92%2)\n",
    "print(2**4)"
   ]
  },
  {
   "cell_type": "code",
   "execution_count": 2,
   "id": "c6043af8",
   "metadata": {},
   "outputs": [
    {
     "name": "stdout",
     "output_type": "stream",
     "text": [
      "17\n"
     ]
    }
   ],
   "source": [
    "#This a simple arithmetic expression to mutiply then add integers\n",
    "x = (3*4)+5\n",
    "print(x)"
   ]
  },
  {
   "cell_type": "code",
   "execution_count": 3,
   "id": "5a5260ce",
   "metadata": {},
   "outputs": [
    {
     "name": "stdout",
     "output_type": "stream",
     "text": [
      "3.3333333333333335\n"
     ]
    }
   ],
   "source": [
    "# This will convert 200 minutes to hours by diving by 60.\n",
    "\n",
    "hours = 200 / 60\n",
    "\n",
    "print(hours)"
   ]
  },
  {
   "cell_type": "markdown",
   "id": "4bc4aba9",
   "metadata": {},
   "source": [
    "# Objectives:\n",
    "\n",
    "* List popular languages for Data Science\n",
    "* Introduce basic arithmetic expressions in Python\n",
    "* Explain how to convert minutes to hours in Python\n",
    "* Write code cells to evaluate expressions and print output\n",
    "* Take screenshots of code cells with output"
   ]
  },
  {
   "cell_type": "markdown",
   "id": "6ef0eec0",
   "metadata": {},
   "source": [
    "# Author\n",
    "Tamer Mansour\n"
   ]
  }
 ],
 "metadata": {
  "kernelspec": {
   "display_name": "Python 3 (ipykernel)",
   "language": "python",
   "name": "python3"
  },
  "language_info": {
   "codemirror_mode": {
    "name": "ipython",
    "version": 3
   },
   "file_extension": ".py",
   "mimetype": "text/x-python",
   "name": "python",
   "nbconvert_exporter": "python",
   "pygments_lexer": "ipython3",
   "version": "3.11.3"
  }
 },
 "nbformat": 4,
 "nbformat_minor": 5
}
